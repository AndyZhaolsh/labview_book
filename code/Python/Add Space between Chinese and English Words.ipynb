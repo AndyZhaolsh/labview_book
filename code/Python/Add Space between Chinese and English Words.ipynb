{
 "cells": [
  {
   "cell_type": "code",
   "execution_count": 15,
   "id": "fbe8ea84",
   "metadata": {
    "scrolled": true
   },
   "outputs": [],
   "source": [
    "import pangu\n",
    "import os\n",
    "\n",
    "\n",
    "doc_path = \"../../docs/\"\n",
    "\n",
    "md_files = [f for f in os.listdir(doc_path) if os.path.isfile(os.path.join(doc_path, f))]\n",
    "\n",
    "for md in md_files:\n",
    "    md_bak = md + \".bak\"\n",
    "    os.rename(os.path.join(doc_path, md), os.path.join(doc_path, md_bak)) \n",
    "    with open(os.path.join(doc_path, md_bak), \"r\", encoding='utf-8') as r:\n",
    "        with open(os.path.join(doc_path, md), \"w\", encoding='utf-8') as w:\n",
    "            for line in r:\n",
    "                new_line = pangu.spacing_text(line)\n",
    "                w.write(new_line)\n",
    "\n"
   ]
  },
  {
   "cell_type": "code",
   "execution_count": null,
   "id": "a803c534",
   "metadata": {},
   "outputs": [],
   "source": []
  }
 ],
 "metadata": {
  "kernelspec": {
   "display_name": "Python 3 (ipykernel)",
   "language": "python",
   "name": "python3"
  },
  "language_info": {
   "codemirror_mode": {
    "name": "ipython",
    "version": 3
   },
   "file_extension": ".py",
   "mimetype": "text/x-python",
   "name": "python",
   "nbconvert_exporter": "python",
   "pygments_lexer": "ipython3",
   "version": "3.8.11"
  }
 },
 "nbformat": 4,
 "nbformat_minor": 5
}
